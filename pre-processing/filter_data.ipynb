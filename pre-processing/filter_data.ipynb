{
 "cells": [
  {
   "cell_type": "code",
   "execution_count": 2,
   "metadata": {},
   "outputs": [],
   "source": [
    "import pandas as pd\n",
    "import torch\n",
    "from joblib import delayed, Parallel\n",
    "from tqdm import tqdm"
   ]
  },
  {
   "cell_type": "code",
   "execution_count": 18,
   "metadata": {},
   "outputs": [],
   "source": [
    "df = pd.read_parquet('/home/l2hebert/reddit-text/data-super-filtered.parquet')"
   ]
  },
  {
   "cell_type": "code",
   "execution_count": 19,
   "metadata": {},
   "outputs": [
    {
     "data": {
      "text/html": [
       "<div>\n",
       "<style scoped>\n",
       "    .dataframe tbody tr th:only-of-type {\n",
       "        vertical-align: middle;\n",
       "    }\n",
       "\n",
       "    .dataframe tbody tr th {\n",
       "        vertical-align: top;\n",
       "    }\n",
       "\n",
       "    .dataframe thead th {\n",
       "        text-align: right;\n",
       "    }\n",
       "</style>\n",
       "<table border=\"1\" class=\"dataframe\">\n",
       "  <thead>\n",
       "    <tr style=\"text-align: right;\">\n",
       "      <th></th>\n",
       "      <th>index</th>\n",
       "      <th>body</th>\n",
       "      <th>path</th>\n",
       "      <th>link_id</th>\n",
       "      <th>new_index</th>\n",
       "      <th>idx_path</th>\n",
       "    </tr>\n",
       "    <tr>\n",
       "      <th>subreddit</th>\n",
       "      <th></th>\n",
       "      <th></th>\n",
       "      <th></th>\n",
       "      <th></th>\n",
       "      <th></th>\n",
       "      <th></th>\n",
       "    </tr>\n",
       "  </thead>\n",
       "  <tbody>\n",
       "    <tr>\n",
       "      <th>AmItheAsshole</th>\n",
       "      <td>1032</td>\n",
       "      <td>1281683</td>\n",
       "      <td>54111</td>\n",
       "      <td>54111</td>\n",
       "      <td>1</td>\n",
       "      <td>54111</td>\n",
       "    </tr>\n",
       "    <tr>\n",
       "      <th>IAmA</th>\n",
       "      <td>630</td>\n",
       "      <td>28700</td>\n",
       "      <td>495</td>\n",
       "      <td>495</td>\n",
       "      <td>1</td>\n",
       "      <td>495</td>\n",
       "    </tr>\n",
       "    <tr>\n",
       "      <th>The_Donald</th>\n",
       "      <td>10342</td>\n",
       "      <td>2639289</td>\n",
       "      <td>115583</td>\n",
       "      <td>115583</td>\n",
       "      <td>1</td>\n",
       "      <td>115583</td>\n",
       "    </tr>\n",
       "    <tr>\n",
       "      <th>climateskeptics</th>\n",
       "      <td>318</td>\n",
       "      <td>14060</td>\n",
       "      <td>952</td>\n",
       "      <td>952</td>\n",
       "      <td>1</td>\n",
       "      <td>952</td>\n",
       "    </tr>\n",
       "    <tr>\n",
       "      <th>politics</th>\n",
       "      <td>11429</td>\n",
       "      <td>1356828</td>\n",
       "      <td>42189</td>\n",
       "      <td>42189</td>\n",
       "      <td>1</td>\n",
       "      <td>42189</td>\n",
       "    </tr>\n",
       "  </tbody>\n",
       "</table>\n",
       "</div>"
      ],
      "text/plain": [
       "                 index     body    path  link_id  new_index  idx_path\n",
       "subreddit                                                            \n",
       "AmItheAsshole     1032  1281683   54111    54111          1     54111\n",
       "IAmA               630    28700     495      495          1       495\n",
       "The_Donald       10342  2639289  115583   115583          1    115583\n",
       "climateskeptics    318    14060     952      952          1       952\n",
       "politics         11429  1356828   42189    42189          1     42189"
      ]
     },
     "execution_count": 19,
     "metadata": {},
     "output_type": "execute_result"
    }
   ],
   "source": [
    "df.groupby(['subreddit']).nunique()"
   ]
  },
  {
   "cell_type": "code",
   "execution_count": 20,
   "metadata": {},
   "outputs": [
    {
     "data": {
      "text/html": [
       "<div>\n",
       "<style scoped>\n",
       "    .dataframe tbody tr th:only-of-type {\n",
       "        vertical-align: middle;\n",
       "    }\n",
       "\n",
       "    .dataframe tbody tr th {\n",
       "        vertical-align: top;\n",
       "    }\n",
       "\n",
       "    .dataframe thead th {\n",
       "        text-align: right;\n",
       "    }\n",
       "</style>\n",
       "<table border=\"1\" class=\"dataframe\">\n",
       "  <thead>\n",
       "    <tr style=\"text-align: right;\">\n",
       "      <th></th>\n",
       "      <th>index</th>\n",
       "      <th>body</th>\n",
       "      <th>path</th>\n",
       "      <th>link_id</th>\n",
       "      <th>new_index</th>\n",
       "      <th>idx_path</th>\n",
       "    </tr>\n",
       "    <tr>\n",
       "      <th>subreddit</th>\n",
       "      <th></th>\n",
       "      <th></th>\n",
       "      <th></th>\n",
       "      <th></th>\n",
       "      <th></th>\n",
       "      <th></th>\n",
       "    </tr>\n",
       "  </thead>\n",
       "  <tbody>\n",
       "    <tr>\n",
       "      <th>AmItheAsshole</th>\n",
       "      <td>1381200</td>\n",
       "      <td>1381200</td>\n",
       "      <td>1381200</td>\n",
       "      <td>1381200</td>\n",
       "      <td>1381200</td>\n",
       "      <td>1381200</td>\n",
       "    </tr>\n",
       "    <tr>\n",
       "      <th>IAmA</th>\n",
       "      <td>30415</td>\n",
       "      <td>30415</td>\n",
       "      <td>30415</td>\n",
       "      <td>30415</td>\n",
       "      <td>30415</td>\n",
       "      <td>30415</td>\n",
       "    </tr>\n",
       "    <tr>\n",
       "      <th>The_Donald</th>\n",
       "      <td>3005612</td>\n",
       "      <td>3005612</td>\n",
       "      <td>3005612</td>\n",
       "      <td>3005612</td>\n",
       "      <td>3005612</td>\n",
       "      <td>3005612</td>\n",
       "    </tr>\n",
       "    <tr>\n",
       "      <th>climateskeptics</th>\n",
       "      <td>14753</td>\n",
       "      <td>14753</td>\n",
       "      <td>14753</td>\n",
       "      <td>14753</td>\n",
       "      <td>14753</td>\n",
       "      <td>14753</td>\n",
       "    </tr>\n",
       "    <tr>\n",
       "      <th>politics</th>\n",
       "      <td>1457321</td>\n",
       "      <td>1457321</td>\n",
       "      <td>1457321</td>\n",
       "      <td>1457321</td>\n",
       "      <td>1457321</td>\n",
       "      <td>1457321</td>\n",
       "    </tr>\n",
       "  </tbody>\n",
       "</table>\n",
       "</div>"
      ],
      "text/plain": [
       "                   index     body     path  link_id  new_index  idx_path\n",
       "subreddit                                                               \n",
       "AmItheAsshole    1381200  1381200  1381200  1381200    1381200   1381200\n",
       "IAmA               30415    30415    30415    30415      30415     30415\n",
       "The_Donald       3005612  3005612  3005612  3005612    3005612   3005612\n",
       "climateskeptics    14753    14753    14753    14753      14753     14753\n",
       "politics         1457321  1457321  1457321  1457321    1457321   1457321"
      ]
     },
     "execution_count": 20,
     "metadata": {},
     "output_type": "execute_result"
    }
   ],
   "source": [
    "df.groupby('subreddit').count()"
   ]
  },
  {
   "cell_type": "code",
   "execution_count": 34,
   "metadata": {},
   "outputs": [],
   "source": [
    "subset = df.loc[df['subreddit'] == 'IAmA']"
   ]
  },
  {
   "cell_type": "code",
   "execution_count": 35,
   "metadata": {},
   "outputs": [
    {
     "data": {
      "text/plain": [
       "495"
      ]
     },
     "execution_count": 35,
     "metadata": {},
     "output_type": "execute_result"
    }
   ],
   "source": [
    "subset.groupby('link_id').ngroups"
   ]
  },
  {
   "cell_type": "code",
   "execution_count": 5,
   "metadata": {},
   "outputs": [],
   "source": [
    "subset = df[['link_id', 'subreddit']]"
   ]
  },
  {
   "cell_type": "code",
   "execution_count": 16,
   "metadata": {},
   "outputs": [
    {
     "data": {
      "text/plain": [
       "The_Donald         3005612\n",
       "politics           1457321\n",
       "AmItheAsshole      1381200\n",
       "IAmA                 30415\n",
       "climateskeptics      14753\n",
       "Name: subreddit, dtype: int64"
      ]
     },
     "execution_count": 16,
     "metadata": {},
     "output_type": "execute_result"
    }
   ],
   "source": [
    "df['subreddit'].value_counts()"
   ]
  },
  {
   "cell_type": "code",
   "execution_count": 13,
   "metadata": {},
   "outputs": [
    {
     "data": {
      "text/html": [
       "<div>\n",
       "<style scoped>\n",
       "    .dataframe tbody tr th:only-of-type {\n",
       "        vertical-align: middle;\n",
       "    }\n",
       "\n",
       "    .dataframe tbody tr th {\n",
       "        vertical-align: top;\n",
       "    }\n",
       "\n",
       "    .dataframe thead th {\n",
       "        text-align: right;\n",
       "    }\n",
       "</style>\n",
       "<table border=\"1\" class=\"dataframe\">\n",
       "  <thead>\n",
       "    <tr style=\"text-align: right;\">\n",
       "      <th></th>\n",
       "      <th>index</th>\n",
       "      <th>body</th>\n",
       "      <th>path</th>\n",
       "      <th>link_id</th>\n",
       "      <th>subreddit</th>\n",
       "      <th>new_index</th>\n",
       "      <th>idx_path</th>\n",
       "    </tr>\n",
       "  </thead>\n",
       "  <tbody>\n",
       "    <tr>\n",
       "      <th>5</th>\n",
       "      <td>0</td>\n",
       "      <td>Herman Cain was leading too at one point, and ...</td>\n",
       "      <td>/home/l2hebert/reddit-graph/The_Donald/16632/3...</td>\n",
       "      <td>3dgpjk</td>\n",
       "      <td>The_Donald</td>\n",
       "      <td>1</td>\n",
       "      <td>data_2.pt</td>\n",
       "    </tr>\n",
       "    <tr>\n",
       "      <th>6</th>\n",
       "      <td>1</td>\n",
       "      <td>Yeah but when he announced, I bet you dismisse...</td>\n",
       "      <td>/home/l2hebert/reddit-graph/The_Donald/16632/3...</td>\n",
       "      <td>3dgpjk</td>\n",
       "      <td>The_Donald</td>\n",
       "      <td>1</td>\n",
       "      <td>data_2.pt</td>\n",
       "    </tr>\n",
       "    <tr>\n",
       "      <th>7</th>\n",
       "      <td>2</td>\n",
       "      <td>[deleted]</td>\n",
       "      <td>/home/l2hebert/reddit-graph/The_Donald/16632/3...</td>\n",
       "      <td>3dgpjk</td>\n",
       "      <td>The_Donald</td>\n",
       "      <td>1</td>\n",
       "      <td>data_2.pt</td>\n",
       "    </tr>\n",
       "    <tr>\n",
       "      <th>8</th>\n",
       "      <td>3</td>\n",
       "      <td>You are so political savvy, maybe you should b...</td>\n",
       "      <td>/home/l2hebert/reddit-graph/The_Donald/16632/3...</td>\n",
       "      <td>3dgpjk</td>\n",
       "      <td>The_Donald</td>\n",
       "      <td>1</td>\n",
       "      <td>data_2.pt</td>\n",
       "    </tr>\n",
       "    <tr>\n",
       "      <th>9</th>\n",
       "      <td>4</td>\n",
       "      <td>LOOOOOL\\n\\n**McCain**\\n\\n\"Our economy, I think...</td>\n",
       "      <td>/home/l2hebert/reddit-graph/The_Donald/16632/3...</td>\n",
       "      <td>3dgpjk</td>\n",
       "      <td>The_Donald</td>\n",
       "      <td>1</td>\n",
       "      <td>data_2.pt</td>\n",
       "    </tr>\n",
       "    <tr>\n",
       "      <th>...</th>\n",
       "      <td>...</td>\n",
       "      <td>...</td>\n",
       "      <td>...</td>\n",
       "      <td>...</td>\n",
       "      <td>...</td>\n",
       "      <td>...</td>\n",
       "      <td>...</td>\n",
       "    </tr>\n",
       "    <tr>\n",
       "      <th>3173051</th>\n",
       "      <td>1</td>\n",
       "      <td>Because George Soros told him to do it.</td>\n",
       "      <td>/home/l2hebert/reddit-graph/The_Donald/17074/5...</td>\n",
       "      <td>55asjh</td>\n",
       "      <td>The_Donald</td>\n",
       "      <td>1</td>\n",
       "      <td>data_193572.pt</td>\n",
       "    </tr>\n",
       "    <tr>\n",
       "      <th>3173052</th>\n",
       "      <td>2</td>\n",
       "      <td>He is a traitor. He does not work for America,...</td>\n",
       "      <td>/home/l2hebert/reddit-graph/The_Donald/17074/5...</td>\n",
       "      <td>55asjh</td>\n",
       "      <td>The_Donald</td>\n",
       "      <td>1</td>\n",
       "      <td>data_193572.pt</td>\n",
       "    </tr>\n",
       "    <tr>\n",
       "      <th>3173053</th>\n",
       "      <td>3</td>\n",
       "      <td>It makes it possible to pressure the big corpo...</td>\n",
       "      <td>/home/l2hebert/reddit-graph/The_Donald/17074/5...</td>\n",
       "      <td>55asjh</td>\n",
       "      <td>The_Donald</td>\n",
       "      <td>1</td>\n",
       "      <td>data_193572.pt</td>\n",
       "    </tr>\n",
       "    <tr>\n",
       "      <th>3173054</th>\n",
       "      <td>4</td>\n",
       "      <td>He is courting the UN so I'm sure it is part o...</td>\n",
       "      <td>/home/l2hebert/reddit-graph/The_Donald/17074/5...</td>\n",
       "      <td>55asjh</td>\n",
       "      <td>The_Donald</td>\n",
       "      <td>1</td>\n",
       "      <td>data_193572.pt</td>\n",
       "    </tr>\n",
       "    <tr>\n",
       "      <th>3173055</th>\n",
       "      <td>5</td>\n",
       "      <td>He doesn't want us to have free speech to crit...</td>\n",
       "      <td>/home/l2hebert/reddit-graph/The_Donald/17074/5...</td>\n",
       "      <td>55asjh</td>\n",
       "      <td>The_Donald</td>\n",
       "      <td>1</td>\n",
       "      <td>data_193572.pt</td>\n",
       "    </tr>\n",
       "  </tbody>\n",
       "</table>\n",
       "<p>3005612 rows × 7 columns</p>\n",
       "</div>"
      ],
      "text/plain": [
       "         index                                               body  \\\n",
       "5            0  Herman Cain was leading too at one point, and ...   \n",
       "6            1  Yeah but when he announced, I bet you dismisse...   \n",
       "7            2                                          [deleted]   \n",
       "8            3  You are so political savvy, maybe you should b...   \n",
       "9            4  LOOOOOL\\n\\n**McCain**\\n\\n\"Our economy, I think...   \n",
       "...        ...                                                ...   \n",
       "3173051      1            Because George Soros told him to do it.   \n",
       "3173052      2  He is a traitor. He does not work for America,...   \n",
       "3173053      3  It makes it possible to pressure the big corpo...   \n",
       "3173054      4  He is courting the UN so I'm sure it is part o...   \n",
       "3173055      5  He doesn't want us to have free speech to crit...   \n",
       "\n",
       "                                                      path link_id  \\\n",
       "5        /home/l2hebert/reddit-graph/The_Donald/16632/3...  3dgpjk   \n",
       "6        /home/l2hebert/reddit-graph/The_Donald/16632/3...  3dgpjk   \n",
       "7        /home/l2hebert/reddit-graph/The_Donald/16632/3...  3dgpjk   \n",
       "8        /home/l2hebert/reddit-graph/The_Donald/16632/3...  3dgpjk   \n",
       "9        /home/l2hebert/reddit-graph/The_Donald/16632/3...  3dgpjk   \n",
       "...                                                    ...     ...   \n",
       "3173051  /home/l2hebert/reddit-graph/The_Donald/17074/5...  55asjh   \n",
       "3173052  /home/l2hebert/reddit-graph/The_Donald/17074/5...  55asjh   \n",
       "3173053  /home/l2hebert/reddit-graph/The_Donald/17074/5...  55asjh   \n",
       "3173054  /home/l2hebert/reddit-graph/The_Donald/17074/5...  55asjh   \n",
       "3173055  /home/l2hebert/reddit-graph/The_Donald/17074/5...  55asjh   \n",
       "\n",
       "          subreddit  new_index        idx_path  \n",
       "5        The_Donald          1       data_2.pt  \n",
       "6        The_Donald          1       data_2.pt  \n",
       "7        The_Donald          1       data_2.pt  \n",
       "8        The_Donald          1       data_2.pt  \n",
       "9        The_Donald          1       data_2.pt  \n",
       "...             ...        ...             ...  \n",
       "3173051  The_Donald          1  data_193572.pt  \n",
       "3173052  The_Donald          1  data_193572.pt  \n",
       "3173053  The_Donald          1  data_193572.pt  \n",
       "3173054  The_Donald          1  data_193572.pt  \n",
       "3173055  The_Donald          1  data_193572.pt  \n",
       "\n",
       "[3005612 rows x 7 columns]"
      ]
     },
     "execution_count": 13,
     "metadata": {},
     "output_type": "execute_result"
    }
   ],
   "source": [
    "subset"
   ]
  },
  {
   "cell_type": "code",
   "execution_count": 6,
   "metadata": {},
   "outputs": [
    {
     "data": {
      "text/html": [
       "<div>\n",
       "<style scoped>\n",
       "    .dataframe tbody tr th:only-of-type {\n",
       "        vertical-align: middle;\n",
       "    }\n",
       "\n",
       "    .dataframe tbody tr th {\n",
       "        vertical-align: top;\n",
       "    }\n",
       "\n",
       "    .dataframe thead th {\n",
       "        text-align: right;\n",
       "    }\n",
       "</style>\n",
       "<table border=\"1\" class=\"dataframe\">\n",
       "  <thead>\n",
       "    <tr style=\"text-align: right;\">\n",
       "      <th></th>\n",
       "      <th>link_id</th>\n",
       "      <th>subreddit</th>\n",
       "    </tr>\n",
       "  </thead>\n",
       "  <tbody>\n",
       "    <tr>\n",
       "      <th>5</th>\n",
       "      <td>3dgpjk</td>\n",
       "      <td>The_Donald</td>\n",
       "    </tr>\n",
       "    <tr>\n",
       "      <th>6</th>\n",
       "      <td>3dgpjk</td>\n",
       "      <td>The_Donald</td>\n",
       "    </tr>\n",
       "    <tr>\n",
       "      <th>7</th>\n",
       "      <td>3dgpjk</td>\n",
       "      <td>The_Donald</td>\n",
       "    </tr>\n",
       "    <tr>\n",
       "      <th>8</th>\n",
       "      <td>3dgpjk</td>\n",
       "      <td>The_Donald</td>\n",
       "    </tr>\n",
       "    <tr>\n",
       "      <th>9</th>\n",
       "      <td>3dgpjk</td>\n",
       "      <td>The_Donald</td>\n",
       "    </tr>\n",
       "    <tr>\n",
       "      <th>...</th>\n",
       "      <td>...</td>\n",
       "      <td>...</td>\n",
       "    </tr>\n",
       "    <tr>\n",
       "      <th>3173051</th>\n",
       "      <td>55asjh</td>\n",
       "      <td>The_Donald</td>\n",
       "    </tr>\n",
       "    <tr>\n",
       "      <th>3173052</th>\n",
       "      <td>55asjh</td>\n",
       "      <td>The_Donald</td>\n",
       "    </tr>\n",
       "    <tr>\n",
       "      <th>3173053</th>\n",
       "      <td>55asjh</td>\n",
       "      <td>The_Donald</td>\n",
       "    </tr>\n",
       "    <tr>\n",
       "      <th>3173054</th>\n",
       "      <td>55asjh</td>\n",
       "      <td>The_Donald</td>\n",
       "    </tr>\n",
       "    <tr>\n",
       "      <th>3173055</th>\n",
       "      <td>55asjh</td>\n",
       "      <td>The_Donald</td>\n",
       "    </tr>\n",
       "  </tbody>\n",
       "</table>\n",
       "<p>3005612 rows × 2 columns</p>\n",
       "</div>"
      ],
      "text/plain": [
       "        link_id   subreddit\n",
       "5        3dgpjk  The_Donald\n",
       "6        3dgpjk  The_Donald\n",
       "7        3dgpjk  The_Donald\n",
       "8        3dgpjk  The_Donald\n",
       "9        3dgpjk  The_Donald\n",
       "...         ...         ...\n",
       "3173051  55asjh  The_Donald\n",
       "3173052  55asjh  The_Donald\n",
       "3173053  55asjh  The_Donald\n",
       "3173054  55asjh  The_Donald\n",
       "3173055  55asjh  The_Donald\n",
       "\n",
       "[3005612 rows x 2 columns]"
      ]
     },
     "execution_count": 6,
     "metadata": {},
     "output_type": "execute_result"
    }
   ],
   "source": [
    "subset.loc[subset['subreddit'] == 'The_Donald']"
   ]
  },
  {
   "cell_type": "code",
   "execution_count": 21,
   "metadata": {},
   "outputs": [],
   "source": [
    "grouped = df.groupby('link_id')"
   ]
  },
  {
   "cell_type": "code",
   "execution_count": 22,
   "metadata": {},
   "outputs": [
    {
     "name": "stderr",
     "output_type": "stream",
     "text": [
      "100%|██████████| 213330/213330 [06:36<00:00, 537.38it/s]\n"
     ]
    }
   ],
   "source": [
    "def compute_skip(group):\n",
    "    path = group['path'].iloc[0]\n",
    "    data = torch.load(path)\n",
    "    # max_index = data.edge_index[0, :].max()\n",
    "    # shape = data.x.size(0)\n",
    "    group['y'] = torch.argmax(data.y, dim=1).numpy()\n",
    "    group['size'] = len(group)\n",
    "    # if (shape > max_index):\n",
    "    #     group['skip'] = False \n",
    "    # else:\n",
    "    #     group['skip'] = True \n",
    "    \n",
    "    return group\n",
    "\n",
    "result_dfs = Parallel(n_jobs=1)(delayed(compute_skip)(group) for name, group in tqdm(grouped, mininterval=1, total=grouped.ngroups))\n",
    "result = pd.concat(result_dfs)"
   ]
  },
  {
   "cell_type": "code",
   "execution_count": 29,
   "metadata": {},
   "outputs": [
    {
     "data": {
      "text/html": [
       "<div>\n",
       "<style scoped>\n",
       "    .dataframe tbody tr th:only-of-type {\n",
       "        vertical-align: middle;\n",
       "    }\n",
       "\n",
       "    .dataframe tbody tr th {\n",
       "        vertical-align: top;\n",
       "    }\n",
       "\n",
       "    .dataframe thead th {\n",
       "        text-align: right;\n",
       "    }\n",
       "</style>\n",
       "<table border=\"1\" class=\"dataframe\">\n",
       "  <thead>\n",
       "    <tr style=\"text-align: right;\">\n",
       "      <th>y</th>\n",
       "      <th>0</th>\n",
       "      <th>1</th>\n",
       "      <th>2</th>\n",
       "      <th>3</th>\n",
       "      <th>4</th>\n",
       "    </tr>\n",
       "    <tr>\n",
       "      <th>subreddit</th>\n",
       "      <th></th>\n",
       "      <th></th>\n",
       "      <th></th>\n",
       "      <th></th>\n",
       "      <th></th>\n",
       "    </tr>\n",
       "  </thead>\n",
       "  <tbody>\n",
       "    <tr>\n",
       "      <th>AmItheAsshole</th>\n",
       "      <td>1103308</td>\n",
       "      <td>183108</td>\n",
       "      <td>39815</td>\n",
       "      <td>45371</td>\n",
       "      <td>9598</td>\n",
       "    </tr>\n",
       "    <tr>\n",
       "      <th>IAmA</th>\n",
       "      <td>27890</td>\n",
       "      <td>2240</td>\n",
       "      <td>216</td>\n",
       "      <td>68</td>\n",
       "      <td>1</td>\n",
       "    </tr>\n",
       "    <tr>\n",
       "      <th>The_Donald</th>\n",
       "      <td>2310601</td>\n",
       "      <td>441746</td>\n",
       "      <td>133534</td>\n",
       "      <td>117091</td>\n",
       "      <td>2640</td>\n",
       "    </tr>\n",
       "    <tr>\n",
       "      <th>climateskeptics</th>\n",
       "      <td>12125</td>\n",
       "      <td>2491</td>\n",
       "      <td>132</td>\n",
       "      <td>5</td>\n",
       "      <td>0</td>\n",
       "    </tr>\n",
       "    <tr>\n",
       "      <th>politics</th>\n",
       "      <td>1087286</td>\n",
       "      <td>264570</td>\n",
       "      <td>54311</td>\n",
       "      <td>45563</td>\n",
       "      <td>5591</td>\n",
       "    </tr>\n",
       "  </tbody>\n",
       "</table>\n",
       "</div>"
      ],
      "text/plain": [
       "y                      0       1       2       3     4\n",
       "subreddit                                             \n",
       "AmItheAsshole    1103308  183108   39815   45371  9598\n",
       "IAmA               27890    2240     216      68     1\n",
       "The_Donald       2310601  441746  133534  117091  2640\n",
       "climateskeptics    12125    2491     132       5     0\n",
       "politics         1087286  264570   54311   45563  5591"
      ]
     },
     "execution_count": 29,
     "metadata": {},
     "output_type": "execute_result"
    }
   ],
   "source": [
    "result[['subreddit', 'y']].groupby(['subreddit', 'y']).size().unstack(fill_value=0)"
   ]
  },
  {
   "cell_type": "code",
   "execution_count": 14,
   "metadata": {},
   "outputs": [
    {
     "data": {
      "text/plain": [
       "-0.06656747755574863"
      ]
     },
     "execution_count": 14,
     "metadata": {},
     "output_type": "execute_result"
    }
   ],
   "source": [
    "(0.25 - result['y']).mean()"
   ]
  },
  {
   "cell_type": "code",
   "execution_count": 55,
   "metadata": {},
   "outputs": [],
   "source": [
    "result = pd.concat(result_dfs)"
   ]
  },
  {
   "cell_type": "code",
   "execution_count": 56,
   "metadata": {},
   "outputs": [],
   "source": [
    "result = result.loc[result['size'] <= 300]"
   ]
  },
  {
   "cell_type": "code",
   "execution_count": 57,
   "metadata": {},
   "outputs": [
    {
     "data": {
      "text/plain": [
       "0    3815563\n",
       "1     801693\n",
       "2     207292\n",
       "3     174852\n",
       "4       6404\n",
       "Name: y, dtype: int64"
      ]
     },
     "execution_count": 57,
     "metadata": {},
     "output_type": "execute_result"
    }
   ],
   "source": [
    "result['y'].value_counts()"
   ]
  },
  {
   "cell_type": "code",
   "execution_count": 58,
   "metadata": {},
   "outputs": [],
   "source": [
    "res = result.groupby('link_id')['y'].apply(lambda x: (x == 0).all())"
   ]
  },
  {
   "cell_type": "code",
   "execution_count": 59,
   "metadata": {},
   "outputs": [],
   "source": [
    "res2 = result.merge(res, on='link_id', how='left')"
   ]
  },
  {
   "cell_type": "code",
   "execution_count": 65,
   "metadata": {},
   "outputs": [],
   "source": [
    "res3 = res2.loc[~res2['y_y']]"
   ]
  },
  {
   "cell_type": "code",
   "execution_count": 66,
   "metadata": {},
   "outputs": [
    {
     "data": {
      "text/plain": [
       "0    3200812\n",
       "1     801693\n",
       "2     207292\n",
       "3     174852\n",
       "4       6404\n",
       "Name: y_x, dtype: int64"
      ]
     },
     "execution_count": 66,
     "metadata": {},
     "output_type": "execute_result"
    }
   ],
   "source": [
    "res3['y_x'].value_counts()"
   ]
  },
  {
   "cell_type": "code",
   "execution_count": 69,
   "metadata": {},
   "outputs": [],
   "source": [
    "res3 = res3.drop(['y_y', 'size'], axis=1)"
   ]
  },
  {
   "cell_type": "code",
   "execution_count": 70,
   "metadata": {},
   "outputs": [],
   "source": [
    "res3 = res3.rename({'y_x': 'y'})"
   ]
  },
  {
   "cell_type": "code",
   "execution_count": 71,
   "metadata": {},
   "outputs": [],
   "source": [
    "res3.to_parquet('/home/l2hebert/reddit-text/data-super-filtered2.parquet')"
   ]
  },
  {
   "cell_type": "code",
   "execution_count": 72,
   "metadata": {},
   "outputs": [
    {
     "data": {
      "text/plain": [
       "139652"
      ]
     },
     "execution_count": 72,
     "metadata": {},
     "output_type": "execute_result"
    }
   ],
   "source": [
    "len(res3.groupby('link_id'))"
   ]
  },
  {
   "cell_type": "code",
   "execution_count": 14,
   "metadata": {},
   "outputs": [],
   "source": [
    "import sklearn"
   ]
  },
  {
   "cell_type": "code",
   "execution_count": 9,
   "metadata": {},
   "outputs": [],
   "source": [
    "df = df.groupby('link_id')"
   ]
  },
  {
   "cell_type": "code",
   "execution_count": 14,
   "metadata": {},
   "outputs": [
    {
     "name": "stderr",
     "output_type": "stream",
     "text": [
      "100%|██████████| 213330/213330 [23:01<00:00, 154.39it/s]\n"
     ]
    }
   ],
   "source": [
    "def compute_all_0(group):\n",
    "    path = group['path'].iloc[0]\n",
    "    data = torch.load(path)\n",
    "    # max_index = data.edge_index[0, :].max()\n",
    "    # shape = data.x.size(0)\n",
    "    group['y'] = torch.argmax(data.y, dim=1).numpy()\n",
    "    # if (shape > max_index):\n",
    "    #     group['skip'] = False \n",
    "    # else:\n",
    "    #     group['skip'] = True \n",
    "    \n",
    "    return group\n",
    "\n",
    "result_dfs = Parallel(n_jobs=-1)(delayed(compute_all_0)(group) for name, group in tqdm(df, mininterval=1, total=df.ngroups))\n",
    "result = pd.concat(result_dfs)"
   ]
  },
  {
   "cell_type": "code",
   "execution_count": 22,
   "metadata": {},
   "outputs": [
    {
     "data": {
      "text/plain": [
       "0.5100300867426869"
      ]
     },
     "execution_count": 22,
     "metadata": {},
     "output_type": "execute_result"
    }
   ],
   "source": [
    "(0.30 - result['y']).abs().mean()"
   ]
  },
  {
   "cell_type": "code",
   "execution_count": null,
   "metadata": {},
   "outputs": [],
   "source": [
    "result.groupby['link_id']"
   ]
  },
  {
   "cell_type": "code",
   "execution_count": 26,
   "metadata": {},
   "outputs": [
    {
     "data": {
      "text/plain": [
       "<AxesSubplot:>"
      ]
     },
     "execution_count": 26,
     "metadata": {},
     "output_type": "execute_result"
    },
    {
     "data": {
      "image/png": "[encoded data removed]",
      "text/plain": [
       "<Figure size 432x288 with 1 Axes>"
      ]
     },
     "metadata": {
      "needs_background": "light"
     },
     "output_type": "display_data"
    }
   ],
   "source": [
    "result['y'].hist()"
   ]
  },
  {
   "cell_type": "code",
   "execution_count": 74,
   "metadata": {},
   "outputs": [],
   "source": [
    "import sklearn"
   ]
  },
  {
   "cell_type": "code",
   "execution_count": 76,
   "metadata": {},
   "outputs": [
    {
     "data": {
      "text/plain": [
       "Index(['index', 'body', 'path', 'link_id', 'subreddit', 'new_index',\n",
       "       'idx_path', 'y_x'],\n",
       "      dtype='object')"
      ]
     },
     "execution_count": 76,
     "metadata": {},
     "output_type": "execute_result"
    }
   ],
   "source": [
    "res3.columns"
   ]
  },
  {
   "cell_type": "code",
   "execution_count": 77,
   "metadata": {},
   "outputs": [],
   "source": [
    "weights = sklearn.utils.class_weight.compute_class_weight('balanced', classes=[0, 1, 2, 3, 4], y=res3['y_x'])"
   ]
  },
  {
   "cell_type": "code",
   "execution_count": 78,
   "metadata": {},
   "outputs": [
    {
     "data": {
      "text/plain": [
       "array([  0.27437119,   1.09544501,   4.23658704,   5.02259397,\n",
       "       137.13469706])"
      ]
     },
     "execution_count": 78,
     "metadata": {},
     "output_type": "execute_result"
    }
   ],
   "source": [
    "weights"
   ]
  },
  {
   "cell_type": "code",
   "execution_count": 15,
   "metadata": {},
   "outputs": [
    {
     "name": "stdout",
     "output_type": "stream",
     "text": [
      "1398595\n"
     ]
    }
   ],
   "source": [
    "size_before = len(result)\n",
    "result = result.loc[~result['skip']]\n",
    "size_after = len(result)\n",
    "print(size_before - size_after)"
   ]
  },
  {
   "cell_type": "code",
   "execution_count": 20,
   "metadata": {},
   "outputs": [],
   "source": [
    "result['idx'] = result.groupby(['link_id']).ngroup()"
   ]
  },
  {
   "cell_type": "code",
   "execution_count": 21,
   "metadata": {},
   "outputs": [],
   "source": [
    "result['idx_path'] = f'data_' + result['idx'].astype(str) + '.pt'"
   ]
  },
  {
   "cell_type": "code",
   "execution_count": 22,
   "metadata": {},
   "outputs": [],
   "source": [
    "result.to_parquet('/home/l2hebert/reddit-text/data-filtered.parquet')"
   ]
  },
  {
   "cell_type": "code",
   "execution_count": 37,
   "metadata": {},
   "outputs": [],
   "source": [
    "res = result.groupby(['link_id'], as_index=False).size()\n",
    "result = result.merge(res, on='link_id', how='left')\n",
    "after = result.loc[result['size_y'] > 3]"
   ]
  },
  {
   "cell_type": "code",
   "execution_count": 41,
   "metadata": {},
   "outputs": [
    {
     "data": {
      "text/plain": [
       "213330"
      ]
     },
     "execution_count": 41,
     "metadata": {},
     "output_type": "execute_result"
    }
   ],
   "source": [
    "after.groupby('link_id').ngroups"
   ]
  },
  {
   "cell_type": "code",
   "execution_count": 44,
   "metadata": {},
   "outputs": [],
   "source": [
    "after = after.drop(['skip', 'idx'], axis=1)"
   ]
  },
  {
   "cell_type": "markdown",
   "metadata": {},
   "source": [
    "after.to_parquet('/home/l2hebert/reddit-text/data-super-filtered.parquet')"
   ]
  },
  {
   "cell_type": "code",
   "execution_count": 27,
   "metadata": {},
   "outputs": [
    {
     "data": {
      "text/plain": [
       "0      NaN\n",
       "1      NaN\n",
       "2      NaN\n",
       "4      NaN\n",
       "5      NaN\n",
       "        ..\n",
       "4288   NaN\n",
       "4461   NaN\n",
       "4471   NaN\n",
       "4653   NaN\n",
       "4657   NaN\n",
       "Name: size, Length: 6102873, dtype: float64"
      ]
     },
     "execution_count": 27,
     "metadata": {},
     "output_type": "execute_result"
    }
   ],
   "source": [
    "result['size']"
   ]
  },
  {
   "cell_type": "code",
   "execution_count": 24,
   "metadata": {},
   "outputs": [
    {
     "data": {
      "text/plain": [
       "313959"
      ]
     },
     "execution_count": 24,
     "metadata": {},
     "output_type": "execute_result"
    }
   ],
   "source": [
    "result.groupby('link_id').ngroups"
   ]
  },
  {
   "cell_type": "code",
   "execution_count": 49,
   "metadata": {},
   "outputs": [
    {
     "data": {
      "text/plain": [
       "5               data_2.pt\n",
       "6               data_2.pt\n",
       "7               data_2.pt\n",
       "8               data_2.pt\n",
       "9               data_2.pt\n",
       "                ...      \n",
       "6102868    data_313958.pt\n",
       "6102869    data_313958.pt\n",
       "6102870    data_313958.pt\n",
       "6102871    data_313958.pt\n",
       "6102872    data_313958.pt\n",
       "Name: idx_path, Length: 5889301, dtype: object"
      ]
     },
     "execution_count": 49,
     "metadata": {},
     "output_type": "execute_result"
    }
   ],
   "source": [
    "after['idx_path']"
   ]
  },
  {
   "cell_type": "code",
   "execution_count": 1,
   "metadata": {},
   "outputs": [],
   "source": [
    "import pandas as pd\n",
    "import numpy as np"
   ]
  },
  {
   "cell_type": "code",
   "execution_count": 4,
   "metadata": {},
   "outputs": [],
   "source": [
    "np.random.seed(1)"
   ]
  },
  {
   "cell_type": "code",
   "execution_count": 5,
   "metadata": {},
   "outputs": [],
   "source": [
    "df = pd.read_parquet('/home/l2hebert/reddit-text/data-super-filtered.parquet')"
   ]
  },
  {
   "cell_type": "code",
   "execution_count": 8,
   "metadata": {},
   "outputs": [
    {
     "data": {
      "text/plain": [
       "Index(['index', 'body', 'path', 'link_id', 'subreddit', 'new_index',\n",
       "       'idx_path'],\n",
       "      dtype='object')"
      ]
     },
     "execution_count": 8,
     "metadata": {},
     "output_type": "execute_result"
    }
   ],
   "source": [
    "df.columns"
   ]
  }
 ],
 "metadata": {
  "interpreter": {
   "hash": "916dbcbb3f70747c44a77c7bcd40155683ae19c65e1c03b4aa3499c5328201f1"
  },
  "kernelspec": {
   "display_name": "Python 3.9.7 64-bit",
   "language": "python",
   "name": "python3"
  },
  "language_info": {
   "codemirror_mode": {
    "name": "ipython",
    "version": 3
   },
   "file_extension": ".py",
   "mimetype": "text/x-python",
   "name": "python",
   "nbconvert_exporter": "python",
   "pygments_lexer": "ipython3",
   "version": "3.7.11"
  },
  "orig_nbformat": 4
 },
 "nbformat": 4,
 "nbformat_minor": 2
}
