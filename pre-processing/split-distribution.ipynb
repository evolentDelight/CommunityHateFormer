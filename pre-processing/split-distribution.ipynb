{
 "cells": [
  {
   "cell_type": "code",
   "execution_count": 1,
   "metadata": {},
   "outputs": [],
   "source": [
    "import pandas as pd \n",
    "import torch_geometric as tg \n",
    "import torch \n",
    "from glob import glob\n",
    "from tqdm.notebook import tqdm\n",
    "from joblib import Parallel, delayed"
   ]
  },
  {
   "cell_type": "code",
   "execution_count": 2,
   "metadata": {},
   "outputs": [],
   "source": [
    "data = pd.read_parquet('/home/l2hebert/reddit-text/data_no_edge.parquet')"
   ]
  },
  {
   "cell_type": "code",
   "execution_count": 3,
   "metadata": {},
   "outputs": [
    {
     "data": {
      "text/html": [
       "<div>\n",
       "<style scoped>\n",
       "    .dataframe tbody tr th:only-of-type {\n",
       "        vertical-align: middle;\n",
       "    }\n",
       "\n",
       "    .dataframe tbody tr th {\n",
       "        vertical-align: top;\n",
       "    }\n",
       "\n",
       "    .dataframe thead th {\n",
       "        text-align: right;\n",
       "    }\n",
       "</style>\n",
       "<table border=\"1\" class=\"dataframe\">\n",
       "  <thead>\n",
       "    <tr style=\"text-align: right;\">\n",
       "      <th></th>\n",
       "      <th>index</th>\n",
       "      <th>body</th>\n",
       "      <th>path</th>\n",
       "      <th>link_id</th>\n",
       "      <th>subreddit</th>\n",
       "      <th>idx_path</th>\n",
       "    </tr>\n",
       "  </thead>\n",
       "  <tbody>\n",
       "    <tr>\n",
       "      <th>7</th>\n",
       "      <td>0</td>\n",
       "      <td>Herman Cain was leading too at one point, and ...</td>\n",
       "      <td>/home/l2hebert/reddit-graph/The_Donald/16632/3...</td>\n",
       "      <td>3dgpjk</td>\n",
       "      <td>The_Donald</td>\n",
       "      <td>data_0.pt</td>\n",
       "    </tr>\n",
       "    <tr>\n",
       "      <th>8</th>\n",
       "      <td>1</td>\n",
       "      <td>Yeah but when he announced, I bet you dismisse...</td>\n",
       "      <td>/home/l2hebert/reddit-graph/The_Donald/16632/3...</td>\n",
       "      <td>3dgpjk</td>\n",
       "      <td>The_Donald</td>\n",
       "      <td>data_0.pt</td>\n",
       "    </tr>\n",
       "    <tr>\n",
       "      <th>9</th>\n",
       "      <td>2</td>\n",
       "      <td>[deleted]</td>\n",
       "      <td>/home/l2hebert/reddit-graph/The_Donald/16632/3...</td>\n",
       "      <td>3dgpjk</td>\n",
       "      <td>The_Donald</td>\n",
       "      <td>data_0.pt</td>\n",
       "    </tr>\n",
       "    <tr>\n",
       "      <th>10</th>\n",
       "      <td>3</td>\n",
       "      <td>You are so political savvy, maybe you should b...</td>\n",
       "      <td>/home/l2hebert/reddit-graph/The_Donald/16632/3...</td>\n",
       "      <td>3dgpjk</td>\n",
       "      <td>The_Donald</td>\n",
       "      <td>data_0.pt</td>\n",
       "    </tr>\n",
       "    <tr>\n",
       "      <th>11</th>\n",
       "      <td>4</td>\n",
       "      <td>LOOOOOL\\n\\n**McCain**\\n\\n\"Our economy, I think...</td>\n",
       "      <td>/home/l2hebert/reddit-graph/The_Donald/16632/3...</td>\n",
       "      <td>3dgpjk</td>\n",
       "      <td>The_Donald</td>\n",
       "      <td>data_0.pt</td>\n",
       "    </tr>\n",
       "    <tr>\n",
       "      <th>...</th>\n",
       "      <td>...</td>\n",
       "      <td>...</td>\n",
       "      <td>...</td>\n",
       "      <td>...</td>\n",
       "      <td>...</td>\n",
       "      <td>...</td>\n",
       "    </tr>\n",
       "    <tr>\n",
       "      <th>5371</th>\n",
       "      <td>5</td>\n",
       "      <td>She had a help in raising me because my parent...</td>\n",
       "      <td>/home/l2hebert/reddit-graph/AmItheAsshole/1847...</td>\n",
       "      <td>hzttv3</td>\n",
       "      <td>AmItheAsshole</td>\n",
       "      <td>data_117077.pt</td>\n",
       "    </tr>\n",
       "    <tr>\n",
       "      <th>10547</th>\n",
       "      <td>6</td>\n",
       "      <td>NTA. Grandma doesn't get to decide who you are...</td>\n",
       "      <td>/home/l2hebert/reddit-graph/AmItheAsshole/1847...</td>\n",
       "      <td>hzttv3</td>\n",
       "      <td>AmItheAsshole</td>\n",
       "      <td>data_117077.pt</td>\n",
       "    </tr>\n",
       "    <tr>\n",
       "      <th>10664</th>\n",
       "      <td>7</td>\n",
       "      <td>My family knows what’s going on with her. they...</td>\n",
       "      <td>/home/l2hebert/reddit-graph/AmItheAsshole/1847...</td>\n",
       "      <td>hzttv3</td>\n",
       "      <td>AmItheAsshole</td>\n",
       "      <td>data_117077.pt</td>\n",
       "    </tr>\n",
       "    <tr>\n",
       "      <th>12258</th>\n",
       "      <td>8</td>\n",
       "      <td>I'm sorry you're made out to be the antagonist...</td>\n",
       "      <td>/home/l2hebert/reddit-graph/AmItheAsshole/1847...</td>\n",
       "      <td>hzttv3</td>\n",
       "      <td>AmItheAsshole</td>\n",
       "      <td>data_117077.pt</td>\n",
       "    </tr>\n",
       "    <tr>\n",
       "      <th>12569</th>\n",
       "      <td>9</td>\n",
       "      <td>She won’t ever do that sadly. So for now, I’ve...</td>\n",
       "      <td>/home/l2hebert/reddit-graph/AmItheAsshole/1847...</td>\n",
       "      <td>hzttv3</td>\n",
       "      <td>AmItheAsshole</td>\n",
       "      <td>data_117077.pt</td>\n",
       "    </tr>\n",
       "  </tbody>\n",
       "</table>\n",
       "<p>2839857 rows × 6 columns</p>\n",
       "</div>"
      ],
      "text/plain": [
       "       index                                               body  \\\n",
       "7          0  Herman Cain was leading too at one point, and ...   \n",
       "8          1  Yeah but when he announced, I bet you dismisse...   \n",
       "9          2                                          [deleted]   \n",
       "10         3  You are so political savvy, maybe you should b...   \n",
       "11         4  LOOOOOL\\n\\n**McCain**\\n\\n\"Our economy, I think...   \n",
       "...      ...                                                ...   \n",
       "5371       5  She had a help in raising me because my parent...   \n",
       "10547      6  NTA. Grandma doesn't get to decide who you are...   \n",
       "10664      7  My family knows what’s going on with her. they...   \n",
       "12258      8  I'm sorry you're made out to be the antagonist...   \n",
       "12569      9  She won’t ever do that sadly. So for now, I’ve...   \n",
       "\n",
       "                                                    path link_id  \\\n",
       "7      /home/l2hebert/reddit-graph/The_Donald/16632/3...  3dgpjk   \n",
       "8      /home/l2hebert/reddit-graph/The_Donald/16632/3...  3dgpjk   \n",
       "9      /home/l2hebert/reddit-graph/The_Donald/16632/3...  3dgpjk   \n",
       "10     /home/l2hebert/reddit-graph/The_Donald/16632/3...  3dgpjk   \n",
       "11     /home/l2hebert/reddit-graph/The_Donald/16632/3...  3dgpjk   \n",
       "...                                                  ...     ...   \n",
       "5371   /home/l2hebert/reddit-graph/AmItheAsshole/1847...  hzttv3   \n",
       "10547  /home/l2hebert/reddit-graph/AmItheAsshole/1847...  hzttv3   \n",
       "10664  /home/l2hebert/reddit-graph/AmItheAsshole/1847...  hzttv3   \n",
       "12258  /home/l2hebert/reddit-graph/AmItheAsshole/1847...  hzttv3   \n",
       "12569  /home/l2hebert/reddit-graph/AmItheAsshole/1847...  hzttv3   \n",
       "\n",
       "           subreddit        idx_path  \n",
       "7         The_Donald       data_0.pt  \n",
       "8         The_Donald       data_0.pt  \n",
       "9         The_Donald       data_0.pt  \n",
       "10        The_Donald       data_0.pt  \n",
       "11        The_Donald       data_0.pt  \n",
       "...              ...             ...  \n",
       "5371   AmItheAsshole  data_117077.pt  \n",
       "10547  AmItheAsshole  data_117077.pt  \n",
       "10664  AmItheAsshole  data_117077.pt  \n",
       "12258  AmItheAsshole  data_117077.pt  \n",
       "12569  AmItheAsshole  data_117077.pt  \n",
       "\n",
       "[2839857 rows x 6 columns]"
      ]
     },
     "execution_count": 3,
     "metadata": {},
     "output_type": "execute_result"
    }
   ],
   "source": [
    "data"
   ]
  },
  {
   "cell_type": "code",
   "execution_count": 3,
   "metadata": {},
   "outputs": [
    {
     "name": "stdout",
     "output_type": "stream",
     "text": [
      "115333\n"
     ]
    }
   ],
   "source": [
    "folder = '/home/l2hebert/dev/processed-graphs-bert/processed/'\n",
    "print(len(glob(folder + '*')))"
   ]
  },
  {
   "cell_type": "code",
   "execution_count": 4,
   "metadata": {},
   "outputs": [
    {
     "name": "stdout",
     "output_type": "stream",
     "text": [
      "117064\n"
     ]
    }
   ],
   "source": [
    "grouped = data.groupby('path')\n",
    "print(grouped.ngroups)\n"
   ]
  },
  {
   "cell_type": "code",
   "execution_count": 4,
   "metadata": {},
   "outputs": [
    {
     "data": {
      "application/vnd.jupyter.widget-view+json": {
       "model_id": "aa203518ffe6482c8d3256c62c8a028d",
       "version_major": 2,
       "version_minor": 0
      },
      "text/plain": [
       "  0%|          | 0/117064 [00:00<?, ?it/s]"
      ]
     },
     "metadata": {},
     "output_type": "display_data"
    }
   ],
   "source": [
    "def grouped_apply(group, name):\n",
    "    graph = torch.load(name)\n",
    "    labels = (torch.argmax(graph.y, dim=1)).float().numpy()\n",
    "    \n",
    "    try:\n",
    "        group['y'] = labels\n",
    "        group['skip'] = 0\n",
    "    except: \n",
    "        group['skip'] = 1\n",
    "        group['y'] = -1\n",
    "\n",
    "    return group\n",
    "\n",
    "result_dfs = Parallel(n_jobs=4)(delayed(grouped_apply)(group, name) for name, group in tqdm(grouped, total=grouped.ngroups))\n",
    "result = pd.concat(result_dfs)"
   ]
  },
  {
   "cell_type": "code",
   "execution_count": 5,
   "metadata": {},
   "outputs": [
    {
     "data": {
      "text/plain": [
       "0    2839857\n",
       "Name: skip, dtype: int64"
      ]
     },
     "execution_count": 5,
     "metadata": {},
     "output_type": "execute_result"
    }
   ],
   "source": [
    "result['skip'].value_counts()"
   ]
  },
  {
   "cell_type": "code",
   "execution_count": null,
   "metadata": {},
   "outputs": [],
   "source": [
    "skip_groups = ['c2a3ty', 'e4k2mp', 'eg09iq', 'hjn8o0', 'hm2woa', 'hujoqu', 'hwdvsq']"
   ]
  },
  {
   "cell_type": "code",
   "execution_count": null,
   "metadata": {},
   "outputs": [],
   "source": []
  }
 ],
 "metadata": {
  "interpreter": {
   "hash": "e2b5bc9cc6c513fd7237c04e7ea81ea009c287012b7d836f2e90a019c31f2312"
  },
  "kernelspec": {
   "display_name": "Python 3.9.7 ('reddit-graph-v2')",
   "language": "python",
   "name": "python3"
  },
  "language_info": {
   "codemirror_mode": {
    "name": "ipython",
    "version": 3
   },
   "file_extension": ".py",
   "mimetype": "text/x-python",
   "name": "python",
   "nbconvert_exporter": "python",
   "pygments_lexer": "ipython3",
   "version": "3.9.7"
  },
  "orig_nbformat": 4
 },
 "nbformat": 4,
 "nbformat_minor": 2
}
